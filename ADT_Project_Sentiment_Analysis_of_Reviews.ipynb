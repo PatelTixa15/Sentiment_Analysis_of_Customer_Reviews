{
 "cells": [
  {
   "cell_type": "code",
   "execution_count": 1,
   "id": "904fbbb3",
   "metadata": {},
   "outputs": [],
   "source": [
    "# Project Title: Sentiment Analysis of Customer Reviews on Amazon Products"
   ]
  },
  {
   "cell_type": "code",
   "execution_count": 2,
   "id": "05efec1a",
   "metadata": {
    "_cell_guid": "b1076dfc-b9ad-4769-8c92-a6c4dae69d19",
    "_uuid": "8f2839f25d086af736a60e9eeb907d3b93b6e0e5",
    "execution": {
     "iopub.execute_input": "2021-09-01T15:46:23.090375Z",
     "iopub.status.busy": "2021-09-01T15:46:23.089647Z",
     "iopub.status.idle": "2021-09-01T15:46:23.980421Z",
     "shell.execute_reply": "2021-09-01T15:46:23.979473Z",
     "shell.execute_reply.started": "2021-09-01T15:28:40.839759Z"
    },
    "papermill": {
     "duration": 0.915394,
     "end_time": "2021-09-01T15:46:23.980863",
     "exception": false,
     "start_time": "2021-09-01T15:46:23.065469",
     "status": "completed"
    },
    "tags": []
   },
   "outputs": [],
   "source": [
    "# Authors:  Tixa, Div, Nirali, Maharshi\n",
    "\n",
    "\n",
    "# import Machine Learning Libraries\n",
    "\n",
    "#Linear algebra\n",
    "import numpy as np \n",
    "\n",
    "# data processing\n",
    "# CSV file for example: pd.read_csv\n",
    "import pandas as pd \n",
    "\n",
    "from pathlib import Path\n",
    "from sklearn.model_selection import train_test_split\n",
    "\n",
    "import bz2 \n",
    "\n",
    "import os\n",
    "\n",
    "for dirname, _, filenames in os.walk('/kaggle/input'):\n",
    "    for filename in filenames: print(os.path.join(dirname, filename))"
   ]
  },
  {
   "cell_type": "code",
   "execution_count": 3,
   "id": "69c0cc59",
   "metadata": {
    "execution": {
     "iopub.execute_input": "2021-09-01T15:46:24.010844Z",
     "iopub.status.busy": "2021-09-01T15:46:24.010184Z",
     "iopub.status.idle": "2021-09-01T15:46:24.012918Z",
     "shell.execute_reply": "2021-09-01T15:46:24.012500Z",
     "shell.execute_reply.started": "2021-09-01T15:28:42.929439Z"
    },
    "papermill": {
     "duration": 0.019615,
     "end_time": "2021-09-01T15:46:24.013034",
     "exception": false,
     "start_time": "2021-09-01T15:46:23.993419",
     "status": "completed"
    },
    "tags": []
   },
   "outputs": [],
   "source": [
    "# Read Database\n",
    "\n",
    "#Amazon Dataset is used from Kaggle\n",
    "\n",
    "path = Path(\"/kaggle/input/amazonreviews\")\n",
    "\n",
    "def get_data(file_name: Path):\n",
    "    customer_reviews = bz2.BZ2File(file_name).readlines()\n",
    "    customer_reviews = [review.decode(\"utf-8\") for review in customer_reviews]\n",
    "    res_target = {'1':'Negative', '2':'Positive'}\n",
    "    \n",
    "    label = [ res_target[label[9]] for label in customer_reviews]\n",
    "    customer_reviews = [review[11:] for review in customer_reviews]\n",
    "    df = pd.DataFrame(data = {\"label\":label, \"reviews\": customer_reviews})\n",
    "    return df\n"
   ]
  },
  {
   "cell_type": "code",
   "execution_count": 4,
   "id": "7711f586",
   "metadata": {
    "execution": {
     "iopub.execute_input": "2021-09-01T15:46:24.039184Z",
     "iopub.status.busy": "2021-09-01T15:46:24.038551Z",
     "iopub.status.idle": "2021-09-01T15:48:14.434484Z",
     "shell.execute_reply": "2021-09-01T15:48:14.433822Z",
     "shell.execute_reply.started": "2021-09-01T15:28:44.607534Z"
    },
    "papermill": {
     "duration": 110.410264,
     "end_time": "2021-09-01T15:48:14.434688",
     "exception": false,
     "start_time": "2021-09-01T15:46:24.024424",
     "status": "completed"
    },
    "tags": []
   },
   "outputs": [],
   "source": [
    "# Training Data \n",
    "\n",
    "train = get_data('train.ft.txt.bz2').sample(140000, random_state=42)\n",
    "test = get_data('test.ft.txt.bz2')"
   ]
  },
  {
   "cell_type": "code",
   "execution_count": 5,
   "id": "31067d1e",
   "metadata": {
    "execution": {
     "iopub.execute_input": "2021-09-01T15:48:14.487467Z",
     "iopub.status.busy": "2021-09-01T15:48:14.486702Z",
     "iopub.status.idle": "2021-09-01T15:48:14.494865Z",
     "shell.execute_reply": "2021-09-01T15:48:14.495529Z",
     "shell.execute_reply.started": "2021-09-01T15:30:33.292868Z"
    },
    "papermill": {
     "duration": 0.037411,
     "end_time": "2021-09-01T15:48:14.495748",
     "exception": false,
     "start_time": "2021-09-01T15:48:14.458337",
     "status": "completed"
    },
    "tags": []
   },
   "outputs": [
    {
     "data": {
      "text/plain": [
       "(140000, 400000)"
      ]
     },
     "execution_count": 5,
     "metadata": {},
     "output_type": "execute_result"
    }
   ],
   "source": [
    "# length of train and test datasets\n",
    "\n",
    "len(train), len(test)"
   ]
  },
  {
   "cell_type": "code",
   "execution_count": 27,
   "id": "21f0cb87",
   "metadata": {
    "execution": {
     "iopub.execute_input": "2021-09-01T15:48:14.552914Z",
     "iopub.status.busy": "2021-09-01T15:48:14.552081Z",
     "iopub.status.idle": "2021-09-01T15:48:14.564194Z",
     "shell.execute_reply": "2021-09-01T15:48:14.565162Z",
     "shell.execute_reply.started": "2021-09-01T15:30:33.303922Z"
    },
    "papermill": {
     "duration": 0.047804,
     "end_time": "2021-09-01T15:48:14.565335",
     "exception": false,
     "start_time": "2021-09-01T15:48:14.517531",
     "status": "completed"
    },
    "tags": []
   },
   "outputs": [
    {
     "data": {
      "text/html": [
       "<div>\n",
       "<style scoped>\n",
       "    .dataframe tbody tr th:only-of-type {\n",
       "        vertical-align: middle;\n",
       "    }\n",
       "\n",
       "    .dataframe tbody tr th {\n",
       "        vertical-align: top;\n",
       "    }\n",
       "\n",
       "    .dataframe thead th {\n",
       "        text-align: right;\n",
       "    }\n",
       "</style>\n",
       "<table border=\"1\" class=\"dataframe\">\n",
       "  <thead>\n",
       "    <tr style=\"text-align: right;\">\n",
       "      <th></th>\n",
       "      <th>label</th>\n",
       "      <th>reviews</th>\n",
       "    </tr>\n",
       "  </thead>\n",
       "  <tbody>\n",
       "    <tr>\n",
       "      <th>2079998</th>\n",
       "      <td>Negative</td>\n",
       "      <td>Expensive Junk: This product consists of a pie...</td>\n",
       "    </tr>\n",
       "    <tr>\n",
       "      <th>1443106</th>\n",
       "      <td>Negative</td>\n",
       "      <td>Toast too dark: Even on the lowest setting, th...</td>\n",
       "    </tr>\n",
       "    <tr>\n",
       "      <th>3463669</th>\n",
       "      <td>Positive</td>\n",
       "      <td>Excellent imagery...dumbed down story: I enjoy...</td>\n",
       "    </tr>\n",
       "    <tr>\n",
       "      <th>2914699</th>\n",
       "      <td>Negative</td>\n",
       "      <td>Are we pretending everyone is married?: The au...</td>\n",
       "    </tr>\n",
       "    <tr>\n",
       "      <th>1603231</th>\n",
       "      <td>Negative</td>\n",
       "      <td>Not worth your time: Might as well just use a ...</td>\n",
       "    </tr>\n",
       "    <tr>\n",
       "      <th>2944012</th>\n",
       "      <td>Negative</td>\n",
       "      <td>Book reads like written for grade schoolers: I...</td>\n",
       "    </tr>\n",
       "    <tr>\n",
       "      <th>3403602</th>\n",
       "      <td>Negative</td>\n",
       "      <td>Jeanne de Florette &amp; Manon of the Springs: I s...</td>\n",
       "    </tr>\n",
       "    <tr>\n",
       "      <th>1039142</th>\n",
       "      <td>Negative</td>\n",
       "      <td>Theater Projector Ceiling Mount: Would not fit...</td>\n",
       "    </tr>\n",
       "    <tr>\n",
       "      <th>431645</th>\n",
       "      <td>Positive</td>\n",
       "      <td>This import is sooooooooooo good: This is a gr...</td>\n",
       "    </tr>\n",
       "    <tr>\n",
       "      <th>694263</th>\n",
       "      <td>Negative</td>\n",
       "      <td>Garbage: The handle broke clean off after TWO ...</td>\n",
       "    </tr>\n",
       "    <tr>\n",
       "      <th>36844</th>\n",
       "      <td>Positive</td>\n",
       "      <td>Amazing, Fascinating: This was a stunning book...</td>\n",
       "    </tr>\n",
       "    <tr>\n",
       "      <th>1915310</th>\n",
       "      <td>Negative</td>\n",
       "      <td>Not great: This book just gives you the basics...</td>\n",
       "    </tr>\n",
       "    <tr>\n",
       "      <th>621191</th>\n",
       "      <td>Negative</td>\n",
       "      <td>superficial fluff: This book does not convey m...</td>\n",
       "    </tr>\n",
       "    <tr>\n",
       "      <th>939874</th>\n",
       "      <td>Positive</td>\n",
       "      <td>Great Album - some serious stuff: First off, I...</td>\n",
       "    </tr>\n",
       "    <tr>\n",
       "      <th>2608968</th>\n",
       "      <td>Positive</td>\n",
       "      <td>good quality, but high shipping charge: the sc...</td>\n",
       "    </tr>\n",
       "    <tr>\n",
       "      <th>819540</th>\n",
       "      <td>Negative</td>\n",
       "      <td>Couldn't even finish it.: I couldn't even fini...</td>\n",
       "    </tr>\n",
       "    <tr>\n",
       "      <th>2692123</th>\n",
       "      <td>Positive</td>\n",
       "      <td>Great choice for bedtime or anytime!: We were ...</td>\n",
       "    </tr>\n",
       "    <tr>\n",
       "      <th>592425</th>\n",
       "      <td>Positive</td>\n",
       "      <td>Fun for all ages!: Having received this video ...</td>\n",
       "    </tr>\n",
       "    <tr>\n",
       "      <th>1155346</th>\n",
       "      <td>Positive</td>\n",
       "      <td>Contemplating Marriage...a must read.: This bo...</td>\n",
       "    </tr>\n",
       "    <tr>\n",
       "      <th>1774573</th>\n",
       "      <td>Positive</td>\n",
       "      <td>Ran the Stoplight?: Listened to this CD closel...</td>\n",
       "    </tr>\n",
       "    <tr>\n",
       "      <th>1720000</th>\n",
       "      <td>Positive</td>\n",
       "      <td>Excelente Compilación de lo mejor de Caifanes:...</td>\n",
       "    </tr>\n",
       "    <tr>\n",
       "      <th>812118</th>\n",
       "      <td>Negative</td>\n",
       "      <td>Not prepared as an ebook: This book has two st...</td>\n",
       "    </tr>\n",
       "    <tr>\n",
       "      <th>1474507</th>\n",
       "      <td>Negative</td>\n",
       "      <td>Thanks for the 1960s home movie Ken Burns: The...</td>\n",
       "    </tr>\n",
       "    <tr>\n",
       "      <th>178871</th>\n",
       "      <td>Negative</td>\n",
       "      <td>not nearly as good as the first series: This b...</td>\n",
       "    </tr>\n",
       "    <tr>\n",
       "      <th>963973</th>\n",
       "      <td>Positive</td>\n",
       "      <td>HARRISON FORD AT HIS VERY BEST! WITNESS RULES!...</td>\n",
       "    </tr>\n",
       "    <tr>\n",
       "      <th>2753987</th>\n",
       "      <td>Positive</td>\n",
       "      <td>Excellently Drawn Characters: Nina's character...</td>\n",
       "    </tr>\n",
       "    <tr>\n",
       "      <th>2264711</th>\n",
       "      <td>Positive</td>\n",
       "      <td>it's nice: I've saved a lot of space by hangin...</td>\n",
       "    </tr>\n",
       "    <tr>\n",
       "      <th>201550</th>\n",
       "      <td>Positive</td>\n",
       "      <td>One of the best albums I've owned.: A few year...</td>\n",
       "    </tr>\n",
       "    <tr>\n",
       "      <th>3549534</th>\n",
       "      <td>Positive</td>\n",
       "      <td>Great for making dough: I ordered this bread m...</td>\n",
       "    </tr>\n",
       "    <tr>\n",
       "      <th>564238</th>\n",
       "      <td>Negative</td>\n",
       "      <td>Mac Owners Beware: My wife purchased a Rocket ...</td>\n",
       "    </tr>\n",
       "    <tr>\n",
       "      <th>1503424</th>\n",
       "      <td>Negative</td>\n",
       "      <td>a disaster one month at a time: Upon receipt i...</td>\n",
       "    </tr>\n",
       "    <tr>\n",
       "      <th>2437168</th>\n",
       "      <td>Negative</td>\n",
       "      <td>Junk: I just got my DVD in today and I tried t...</td>\n",
       "    </tr>\n",
       "    <tr>\n",
       "      <th>3412883</th>\n",
       "      <td>Positive</td>\n",
       "      <td>It is fun and a nice car: It is a nice car - b...</td>\n",
       "    </tr>\n",
       "    <tr>\n",
       "      <th>386151</th>\n",
       "      <td>Negative</td>\n",
       "      <td>Robbery: This is a horrible disc, all of the s...</td>\n",
       "    </tr>\n",
       "    <tr>\n",
       "      <th>1005382</th>\n",
       "      <td>Positive</td>\n",
       "      <td>Definitely works: Have used this and it defini...</td>\n",
       "    </tr>\n",
       "    <tr>\n",
       "      <th>3181823</th>\n",
       "      <td>Positive</td>\n",
       "      <td>Excellent: All of James Patterson's books (Wom...</td>\n",
       "    </tr>\n",
       "    <tr>\n",
       "      <th>639277</th>\n",
       "      <td>Positive</td>\n",
       "      <td>Everyone needs to let it go!: I'm sick of ever...</td>\n",
       "    </tr>\n",
       "    <tr>\n",
       "      <th>2108396</th>\n",
       "      <td>Negative</td>\n",
       "      <td>Not even ok.: I'm a pilot, and I'm giving up o...</td>\n",
       "    </tr>\n",
       "    <tr>\n",
       "      <th>480042</th>\n",
       "      <td>Negative</td>\n",
       "      <td>One Minute to Zero: Movie had a great story, b...</td>\n",
       "    </tr>\n",
       "    <tr>\n",
       "      <th>1504104</th>\n",
       "      <td>Positive</td>\n",
       "      <td>Just like when I was a kid!: I bought this for...</td>\n",
       "    </tr>\n",
       "    <tr>\n",
       "      <th>1644559</th>\n",
       "      <td>Negative</td>\n",
       "      <td>Disappointed:: I was disappointed with this bo...</td>\n",
       "    </tr>\n",
       "    <tr>\n",
       "      <th>869829</th>\n",
       "      <td>Negative</td>\n",
       "      <td>This Muse is a slumber!: Actually, I thought I...</td>\n",
       "    </tr>\n",
       "    <tr>\n",
       "      <th>2312083</th>\n",
       "      <td>Negative</td>\n",
       "      <td>Not necessary.: I bought this neck strap WITH ...</td>\n",
       "    </tr>\n",
       "    <tr>\n",
       "      <th>1523494</th>\n",
       "      <td>Negative</td>\n",
       "      <td>Men with Brooms: If you love the sport of curl...</td>\n",
       "    </tr>\n",
       "    <tr>\n",
       "      <th>1414669</th>\n",
       "      <td>Positive</td>\n",
       "      <td>Works great for me: After my last Panasonic Sh...</td>\n",
       "    </tr>\n",
       "    <tr>\n",
       "      <th>1481147</th>\n",
       "      <td>Negative</td>\n",
       "      <td>Item doen't work: This UPS never worked from d...</td>\n",
       "    </tr>\n",
       "    <tr>\n",
       "      <th>1655200</th>\n",
       "      <td>Negative</td>\n",
       "      <td>Not for burning: Within 20 minutes these candl...</td>\n",
       "    </tr>\n",
       "    <tr>\n",
       "      <th>2746757</th>\n",
       "      <td>Positive</td>\n",
       "      <td>Lost: A friend gave me a copy of \"Dresden\" and...</td>\n",
       "    </tr>\n",
       "    <tr>\n",
       "      <th>1474338</th>\n",
       "      <td>Negative</td>\n",
       "      <td>LAME: I agree with the kids review below. This...</td>\n",
       "    </tr>\n",
       "    <tr>\n",
       "      <th>2751073</th>\n",
       "      <td>Positive</td>\n",
       "      <td>Great movie!: This is the epitome of a \"B\" wes...</td>\n",
       "    </tr>\n",
       "    <tr>\n",
       "      <th>1853398</th>\n",
       "      <td>Positive</td>\n",
       "      <td>Yummy!: These are individually wrapped and the...</td>\n",
       "    </tr>\n",
       "    <tr>\n",
       "      <th>2977691</th>\n",
       "      <td>Positive</td>\n",
       "      <td>Great speaker package for the money!: Polk Aud...</td>\n",
       "    </tr>\n",
       "    <tr>\n",
       "      <th>3157269</th>\n",
       "      <td>Negative</td>\n",
       "      <td>misleading specs: VA 1/2 inch rotaty files and...</td>\n",
       "    </tr>\n",
       "    <tr>\n",
       "      <th>628291</th>\n",
       "      <td>Positive</td>\n",
       "      <td>kfm: I first saw Kentucky Fried Movie when I w...</td>\n",
       "    </tr>\n",
       "    <tr>\n",
       "      <th>645616</th>\n",
       "      <td>Positive</td>\n",
       "      <td>Funkin amazing and out there: Like Strayhorn a...</td>\n",
       "    </tr>\n",
       "    <tr>\n",
       "      <th>1568613</th>\n",
       "      <td>Positive</td>\n",
       "      <td>Great Art, Great Action: Jedis are great and a...</td>\n",
       "    </tr>\n",
       "    <tr>\n",
       "      <th>2748882</th>\n",
       "      <td>Negative</td>\n",
       "      <td>Good for stretching, not to get a workout.: I'...</td>\n",
       "    </tr>\n",
       "    <tr>\n",
       "      <th>224876</th>\n",
       "      <td>Negative</td>\n",
       "      <td>TERRIBLE ACTING: This movie could have been go...</td>\n",
       "    </tr>\n",
       "    <tr>\n",
       "      <th>961876</th>\n",
       "      <td>Positive</td>\n",
       "      <td>out standing: this item make's my bathroom loo...</td>\n",
       "    </tr>\n",
       "    <tr>\n",
       "      <th>1346235</th>\n",
       "      <td>Positive</td>\n",
       "      <td>Amazing first single!!!: The first single from...</td>\n",
       "    </tr>\n",
       "  </tbody>\n",
       "</table>\n",
       "</div>"
      ],
      "text/plain": [
       "            label                                            reviews\n",
       "2079998  Negative  Expensive Junk: This product consists of a pie...\n",
       "1443106  Negative  Toast too dark: Even on the lowest setting, th...\n",
       "3463669  Positive  Excellent imagery...dumbed down story: I enjoy...\n",
       "2914699  Negative  Are we pretending everyone is married?: The au...\n",
       "1603231  Negative  Not worth your time: Might as well just use a ...\n",
       "2944012  Negative  Book reads like written for grade schoolers: I...\n",
       "3403602  Negative  Jeanne de Florette & Manon of the Springs: I s...\n",
       "1039142  Negative  Theater Projector Ceiling Mount: Would not fit...\n",
       "431645   Positive  This import is sooooooooooo good: This is a gr...\n",
       "694263   Negative  Garbage: The handle broke clean off after TWO ...\n",
       "36844    Positive  Amazing, Fascinating: This was a stunning book...\n",
       "1915310  Negative  Not great: This book just gives you the basics...\n",
       "621191   Negative  superficial fluff: This book does not convey m...\n",
       "939874   Positive  Great Album - some serious stuff: First off, I...\n",
       "2608968  Positive  good quality, but high shipping charge: the sc...\n",
       "819540   Negative  Couldn't even finish it.: I couldn't even fini...\n",
       "2692123  Positive  Great choice for bedtime or anytime!: We were ...\n",
       "592425   Positive  Fun for all ages!: Having received this video ...\n",
       "1155346  Positive  Contemplating Marriage...a must read.: This bo...\n",
       "1774573  Positive  Ran the Stoplight?: Listened to this CD closel...\n",
       "1720000  Positive  Excelente Compilación de lo mejor de Caifanes:...\n",
       "812118   Negative  Not prepared as an ebook: This book has two st...\n",
       "1474507  Negative  Thanks for the 1960s home movie Ken Burns: The...\n",
       "178871   Negative  not nearly as good as the first series: This b...\n",
       "963973   Positive  HARRISON FORD AT HIS VERY BEST! WITNESS RULES!...\n",
       "2753987  Positive  Excellently Drawn Characters: Nina's character...\n",
       "2264711  Positive  it's nice: I've saved a lot of space by hangin...\n",
       "201550   Positive  One of the best albums I've owned.: A few year...\n",
       "3549534  Positive  Great for making dough: I ordered this bread m...\n",
       "564238   Negative  Mac Owners Beware: My wife purchased a Rocket ...\n",
       "1503424  Negative  a disaster one month at a time: Upon receipt i...\n",
       "2437168  Negative  Junk: I just got my DVD in today and I tried t...\n",
       "3412883  Positive  It is fun and a nice car: It is a nice car - b...\n",
       "386151   Negative  Robbery: This is a horrible disc, all of the s...\n",
       "1005382  Positive  Definitely works: Have used this and it defini...\n",
       "3181823  Positive  Excellent: All of James Patterson's books (Wom...\n",
       "639277   Positive  Everyone needs to let it go!: I'm sick of ever...\n",
       "2108396  Negative  Not even ok.: I'm a pilot, and I'm giving up o...\n",
       "480042   Negative  One Minute to Zero: Movie had a great story, b...\n",
       "1504104  Positive  Just like when I was a kid!: I bought this for...\n",
       "1644559  Negative  Disappointed:: I was disappointed with this bo...\n",
       "869829   Negative  This Muse is a slumber!: Actually, I thought I...\n",
       "2312083  Negative  Not necessary.: I bought this neck strap WITH ...\n",
       "1523494  Negative  Men with Brooms: If you love the sport of curl...\n",
       "1414669  Positive  Works great for me: After my last Panasonic Sh...\n",
       "1481147  Negative  Item doen't work: This UPS never worked from d...\n",
       "1655200  Negative  Not for burning: Within 20 minutes these candl...\n",
       "2746757  Positive  Lost: A friend gave me a copy of \"Dresden\" and...\n",
       "1474338  Negative  LAME: I agree with the kids review below. This...\n",
       "2751073  Positive  Great movie!: This is the epitome of a \"B\" wes...\n",
       "1853398  Positive  Yummy!: These are individually wrapped and the...\n",
       "2977691  Positive  Great speaker package for the money!: Polk Aud...\n",
       "3157269  Negative  misleading specs: VA 1/2 inch rotaty files and...\n",
       "628291   Positive  kfm: I first saw Kentucky Fried Movie when I w...\n",
       "645616   Positive  Funkin amazing and out there: Like Strayhorn a...\n",
       "1568613  Positive  Great Art, Great Action: Jedis are great and a...\n",
       "2748882  Negative  Good for stretching, not to get a workout.: I'...\n",
       "224876   Negative  TERRIBLE ACTING: This movie could have been go...\n",
       "961876   Positive  out standing: this item make's my bathroom loo...\n",
       "1346235  Positive  Amazing first single!!!: The first single from..."
      ]
     },
     "execution_count": 27,
     "metadata": {},
     "output_type": "execute_result"
    }
   ],
   "source": [
    "# Printing data with top 60 reviews \n",
    "\n",
    "train.head(60)"
   ]
  },
  {
   "cell_type": "code",
   "execution_count": 7,
   "id": "1006833a",
   "metadata": {
    "execution": {
     "iopub.execute_input": "2021-09-01T15:48:14.620977Z",
     "iopub.status.busy": "2021-09-01T15:48:14.620107Z",
     "iopub.status.idle": "2021-09-01T15:48:14.907466Z",
     "shell.execute_reply": "2021-09-01T15:48:14.908473Z"
    },
    "papermill": {
     "duration": 0.321464,
     "end_time": "2021-09-01T15:48:14.908695",
     "exception": false,
     "start_time": "2021-09-01T15:48:14.587231",
     "status": "completed"
    },
    "tags": []
   },
   "outputs": [
    {
     "data": {
      "text/plain": [
       "<AxesSubplot:>"
      ]
     },
     "execution_count": 7,
     "metadata": {},
     "output_type": "execute_result"
    },
    {
     "data": {
      "image/png": "[encoded data removed]",
      "text/plain": [
       "<Figure size 432x288 with 1 Axes>"
      ]
     },
     "metadata": {
      "needs_background": "light"
     },
     "output_type": "display_data"
    }
   ],
   "source": [
    "# plot bar graph for data visualization\n",
    "\n",
    "train['label'].value_counts().plot(kind='bar', color='maroon')"
   ]
  },
  {
   "cell_type": "code",
   "execution_count": 8,
   "id": "3a8177a5",
   "metadata": {
    "papermill": {
     "duration": 0.023011,
     "end_time": "2021-09-01T15:48:14.954194",
     "exception": false,
     "start_time": "2021-09-01T15:48:14.931183",
     "status": "completed"
    },
    "tags": []
   },
   "outputs": [
    {
     "data": {
      "text/plain": [
       "<AxesSubplot:>"
      ]
     },
     "execution_count": 8,
     "metadata": {},
     "output_type": "execute_result"
    },
    {
     "data": {
      "image/png": "[encoded data removed]",
      "text/plain": [
       "<Figure size 432x288 with 1 Axes>"
      ]
     },
     "metadata": {
      "needs_background": "light"
     },
     "output_type": "display_data"
    }
   ],
   "source": [
    "# plot box chart for data visualization\n",
    "train['label'].value_counts().plot(kind='box')"
   ]
  },
  {
   "cell_type": "code",
   "execution_count": 9,
   "id": "ab2c5699",
   "metadata": {},
   "outputs": [
    {
     "data": {
      "text/plain": [
       "<AxesSubplot:ylabel='Frequency'>"
      ]
     },
     "execution_count": 9,
     "metadata": {},
     "output_type": "execute_result"
    },
    {
     "data": {
      "image/png": "[encoded data removed]",
      "text/plain": [
       "<Figure size 432x288 with 1 Axes>"
      ]
     },
     "metadata": {
      "needs_background": "light"
     },
     "output_type": "display_data"
    }
   ],
   "source": [
    "# plot histogram for data visualization\n",
    "\n",
    "train['label'].value_counts().plot(kind='hist')"
   ]
  },
  {
   "cell_type": "markdown",
   "id": "f45df306",
   "metadata": {
    "papermill": {
     "duration": 0.022855,
     "end_time": "2021-09-01T15:48:15.000697",
     "exception": false,
     "start_time": "2021-09-01T15:48:14.977842",
     "status": "completed"
    },
    "tags": []
   },
   "source": [
    "# Model\n",
    "\n",
    "creating a model"
   ]
  },
  {
   "cell_type": "code",
   "execution_count": 10,
   "id": "277ca11b",
   "metadata": {
    "execution": {
     "iopub.execute_input": "2021-09-01T15:48:15.053471Z",
     "iopub.status.busy": "2021-09-01T15:48:15.051898Z",
     "iopub.status.idle": "2021-09-01T15:48:15.138814Z",
     "shell.execute_reply": "2021-09-01T15:48:15.138210Z",
     "shell.execute_reply.started": "2021-09-01T15:12:38.578561Z"
    },
    "papermill": {
     "duration": 0.115537,
     "end_time": "2021-09-01T15:48:15.139024",
     "exception": false,
     "start_time": "2021-09-01T15:48:15.023487",
     "status": "completed"
    },
    "tags": []
   },
   "outputs": [],
   "source": [
    "#import libraries from Sklearn \n",
    "\n",
    "from sklearn.linear_model import LogisticRegression\n",
    "from sklearn.feature_extraction.text import TfidfVectorizer\n",
    "from sklearn.preprocessing import LabelEncoder\n",
    "from sklearn.metrics import plot_confusion_matrix, plot_precision_recall_curve"
   ]
  },
  {
   "cell_type": "code",
   "execution_count": 11,
   "id": "813c0fae",
   "metadata": {
    "execution": {
     "iopub.execute_input": "2021-09-01T15:48:15.174141Z",
     "iopub.status.busy": "2021-09-01T15:48:15.172884Z",
     "iopub.status.idle": "2021-09-01T15:48:15.175672Z",
     "shell.execute_reply": "2021-09-01T15:48:15.175240Z",
     "shell.execute_reply.started": "2021-09-01T15:12:39.557426Z"
    },
    "papermill": {
     "duration": 0.021436,
     "end_time": "2021-09-01T15:48:15.175783",
     "exception": false,
     "start_time": "2021-09-01T15:48:15.154347",
     "status": "completed"
    },
    "tags": []
   },
   "outputs": [],
   "source": [
    "# label Encoder\n",
    "\n",
    "vect_data = TfidfVectorizer(ngram_range=(1,2),\n",
    "                      min_df=3, \n",
    "                      max_df=0.9, \n",
    "                      strip_accents='unicode', \n",
    "                      use_idf=1,\n",
    "                      smooth_idf=1, \n",
    "                      sublinear_tf=1)\n",
    "\n",
    "encoder = LabelEncoder()"
   ]
  },
  {
   "cell_type": "code",
   "execution_count": 12,
   "id": "4532a55f",
   "metadata": {
    "execution": {
     "iopub.execute_input": "2021-09-01T15:48:15.249318Z",
     "iopub.status.busy": "2021-09-01T15:48:15.244325Z",
     "iopub.status.idle": "2021-09-01T15:49:52.140800Z",
     "shell.execute_reply": "2021-09-01T15:49:52.140291Z",
     "shell.execute_reply.started": "2021-09-01T15:12:51.018578Z"
    },
    "papermill": {
     "duration": 96.951002,
     "end_time": "2021-09-01T15:49:52.140952",
     "exception": false,
     "start_time": "2021-09-01T15:48:15.189950",
     "status": "completed"
    },
    "tags": []
   },
   "outputs": [],
   "source": [
    "# transforming data using fit_transform\n",
    "\n",
    "X_train = vect_data.fit_transform(train['reviews'])\n",
    "X_test = vect_data.transform(test['reviews'])\n",
    "Y_train = encoder.fit_transform(train['label'])\n",
    "Y_test = encoder.transform(test['label'])"
   ]
  },
  {
   "cell_type": "code",
   "execution_count": 13,
   "id": "4f65c51d",
   "metadata": {
    "execution": {
     "iopub.execute_input": "2021-09-01T15:49:52.173713Z",
     "iopub.status.busy": "2021-09-01T15:49:52.172705Z",
     "iopub.status.idle": "2021-09-01T15:49:55.159992Z",
     "shell.execute_reply": "2021-09-01T15:49:55.160995Z",
     "shell.execute_reply.started": "2021-09-01T15:14:31.884678Z"
    },
    "papermill": {
     "duration": 3.005722,
     "end_time": "2021-09-01T15:49:55.161208",
     "exception": false,
     "start_time": "2021-09-01T15:49:52.155486",
     "status": "completed"
    },
    "tags": []
   },
   "outputs": [
    {
     "data": {
      "text/plain": [
       "LogisticRegression(C=4, dual=True, random_state=42, solver='liblinear')"
      ]
     },
     "execution_count": 13,
     "metadata": {},
     "output_type": "execute_result"
    }
   ],
   "source": [
    "# Logistical Regression\n",
    "\n",
    "data_model = LogisticRegression(C=4, dual=True, solver='liblinear', random_state=42)\n",
    "data_model.fit(X_train, Y_train)"
   ]
  },
  {
   "cell_type": "code",
   "execution_count": 14,
   "id": "78c33773",
   "metadata": {
    "execution": {
     "iopub.execute_input": "2021-09-01T15:49:55.220372Z",
     "iopub.status.busy": "2021-09-01T15:49:55.219600Z",
     "iopub.status.idle": "2021-09-01T15:49:55.448202Z",
     "shell.execute_reply": "2021-09-01T15:49:55.447684Z",
     "shell.execute_reply.started": "2021-09-01T15:14:34.779947Z"
    },
    "papermill": {
     "duration": 0.264549,
     "end_time": "2021-09-01T15:49:55.448324",
     "exception": false,
     "start_time": "2021-09-01T15:49:55.183775",
     "status": "completed"
    },
    "tags": []
   },
   "outputs": [],
   "source": [
    "# predicting probabilities \n",
    "\n",
    "predicts = data_model.predict_proba(X_test)"
   ]
  },
  {
   "cell_type": "code",
   "execution_count": 15,
   "id": "ed210b60",
   "metadata": {
    "execution": {
     "iopub.execute_input": "2021-09-01T15:49:55.482428Z",
     "iopub.status.busy": "2021-09-01T15:49:55.481485Z",
     "iopub.status.idle": "2021-09-01T15:49:56.343482Z",
     "shell.execute_reply": "2021-09-01T15:49:56.343911Z",
     "shell.execute_reply.started": "2021-09-01T15:14:34.957602Z"
    },
    "papermill": {
     "duration": 0.881751,
     "end_time": "2021-09-01T15:49:56.344061",
     "exception": false,
     "start_time": "2021-09-01T15:49:55.462310",
     "status": "completed"
    },
    "tags": []
   },
   "outputs": [
    {
     "data": {
      "image/png": "[encoded data removed]",
      "text/plain": [
       "<Figure size 432x288 with 2 Axes>"
      ]
     },
     "metadata": {
      "needs_background": "light"
     },
     "output_type": "display_data"
    }
   ],
   "source": [
    "# Matrix \n",
    "\n",
    "plot_confusion_matrix(data_model, X_test, Y_test);"
   ]
  },
  {
   "cell_type": "code",
   "execution_count": 16,
   "id": "576450ee",
   "metadata": {
    "execution": {
     "iopub.execute_input": "2021-09-01T15:49:56.376523Z",
     "iopub.status.busy": "2021-09-01T15:49:56.375654Z",
     "iopub.status.idle": "2021-09-01T15:49:56.952324Z",
     "shell.execute_reply": "2021-09-01T15:49:56.952762Z",
     "shell.execute_reply.started": "2021-09-01T15:14:36.010225Z"
    },
    "papermill": {
     "duration": 0.594684,
     "end_time": "2021-09-01T15:49:56.952913",
     "exception": false,
     "start_time": "2021-09-01T15:49:56.358229",
     "status": "completed"
    },
    "tags": []
   },
   "outputs": [
    {
     "data": {
      "image/png": "[encoded data removed]",
      "text/plain": [
       "<Figure size 432x288 with 1 Axes>"
      ]
     },
     "metadata": {
      "needs_background": "light"
     },
     "output_type": "display_data"
    }
   ],
   "source": [
    "# plot curve \n",
    "\n",
    "plot_precision_recall_curve(data_model, X_test, Y_test);"
   ]
  },
  {
   "cell_type": "code",
   "execution_count": 34,
   "id": "b2c10384",
   "metadata": {},
   "outputs": [
    {
     "name": "stdout",
     "output_type": "stream",
     "text": [
      "Enter Review:\n",
      "I dislike this product\n",
      "\n",
      "Sentimental Analysis\n",
      "This review is Negative 😡\n",
      "Sentiment Score: 0.0568843809773693\n"
     ]
    }
   ],
   "source": [
    "# User Interactive model for providing outcome based on review enter by user\n",
    "\n",
    "print(\"Enter Review:\")\n",
    "user_input = vect_data.transform([input()])\n",
    "predict2 = data_model.predict_proba(user_input)\n",
    "predict3 = data_model.predict(user_input)\n",
    "\n",
    "if predict3[0]: \n",
    "    print(\"\\nSentimental Analysis\"\"\\nThis review is Positive\"  \" \\U0001f600\" \"\\nSentiment Score:\", predict2[0][1])\n",
    "\n",
    "\n",
    "\n",
    "else:\n",
    "    print(\"\\nSentimental Analysis\\nThis review is Negative\" \" \\U0001f621\" \"\\nSentiment Score:\", predict2[0][1])"
   ]
  },
  {
   "cell_type": "code",
   "execution_count": null,
   "id": "30d76505",
   "metadata": {},
   "outputs": [],
   "source": []
  },
  {
   "cell_type": "code",
   "execution_count": null,
   "id": "c4d72506",
   "metadata": {},
   "outputs": [],
   "source": []
  }
 ],
 "metadata": {
  "kernelspec": {
   "display_name": "Python 3",
   "language": "python",
   "name": "python3"
  },
  "language_info": {
   "codemirror_mode": {
    "name": "ipython",
    "version": 3
   },
   "file_extension": ".py",
   "mimetype": "text/x-python",
   "name": "python",
   "nbconvert_exporter": "python",
   "pygments_lexer": "ipython3",
   "version": "3.8.8"
  },
  "papermill": {
   "default_parameters": {},
   "duration": 222.6883,
   "end_time": "2021-09-01T15:49:59.184683",
   "environment_variables": {},
   "exception": null,
   "input_path": "__notebook__.ipynb",
   "output_path": "__notebook__.ipynb",
   "parameters": {},
   "start_time": "2021-09-01T15:46:16.496383",
   "version": "2.3.3"
  }
 },
 "nbformat": 4,
 "nbformat_minor": 5
}
